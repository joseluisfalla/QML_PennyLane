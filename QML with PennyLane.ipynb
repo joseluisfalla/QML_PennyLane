{
 "cells": [
  {
   "cell_type": "markdown",
   "metadata": {
    "slideshow": {
     "slide_type": "slide"
    }
   },
   "source": [
    "# Quantum Machine Learning with PennyLane\n",
    "\n",
    "### Sergio Andrés Cotrino Sandoval & José Luis Falla León\n",
    "### Friday, March 5th, 2021\n",
    "### Chaos & Complexity Group\n",
    "### Universidad Nacional de Colombia"
   ]
  },
  {
   "cell_type": "markdown",
   "metadata": {
    "slideshow": {
     "slide_type": "slide"
    }
   },
   "source": [
    "## Table of Contents\n",
    "- Introduction to PennyLane\n",
    "- PennyLane Features\n",
    "    - Continuous-variable Architecture\n",
    "    - Qubit Architecture\n",
    "- Example 1: Optimizing a Quantum Optical Neural Network\n",
    "- Example 2: Variational Quantum Classifier\n",
    "- Crossover: PennyLane + Qiskit\n",
    "- References"
   ]
  },
  {
   "cell_type": "markdown",
   "metadata": {
    "slideshow": {
     "slide_type": "slide"
    }
   },
   "source": [
    "# Introduction to PennyLane\n",
    "- Cross-platform, open-source, Python library for differentiable programming of quantum computers.\n",
    "- Facilitates the optimization of both quantum and hybrid quantum-classical algorithms.\n",
    "- PennyLane can, in principle, be used with any gate-based quantum computing platform as a backend, including both qubit and continuous-variable architectures."
   ]
  },
  {
   "cell_type": "markdown",
   "metadata": {
    "slideshow": {
     "slide_type": "slide"
    }
   },
   "source": [
    "# Continuous Variables"
   ]
  },
  {
   "cell_type": "markdown",
   "metadata": {
    "slideshow": {
     "slide_type": "slide"
    }
   },
   "source": [
    "# Optimizing a quantum optical neural network\n",
    "\n",
    "This is a review of the tutorial that can be found on https://pennylane.ai/qml/demos/qonn.html. This Quantum Optica Neural Network (QONN) is based on Fock states, and attempts to apply neural networks and deep learning theory to the quantum case, using quantum data and architecture, and a classical optimization process.\n",
    "\n",
    "<MORE BACKGROUND>"
   ]
  },
  {
   "cell_type": "code",
   "execution_count": 1,
   "metadata": {},
   "outputs": [],
   "source": [
    "# Import PennyLane and the numpy wrapper\n",
    "# Wrapper needed to perform some functions of np in the context of PennyLane\n",
    "import pennylane as qml\n",
    "from pennylane import numpy as np"
   ]
  },
  {
   "source": [
    "A Strawberry Fields simulator is created with as many quantun modes as the quantum-optical neural network is to have. Also, as Fock states are used, a cutoff dimension is needed. In this case, the cutoff will be the same as the number of quantum modes."
   ],
   "cell_type": "markdown",
   "metadata": {}
  },
  {
   "cell_type": "code",
   "execution_count": 3,
   "metadata": {},
   "outputs": [],
   "source": [
    "dev = qml.device(\"strawberryfields.fock\", wires=4, cutoff_dim=4)"
   ]
  },
  {
   "source": [
    "To create the QONN, layers are used. These consist of a linear interferometer and a non-linear Kerr interaction layer. Both layers are aplied to all modes. More information regarding this layout can be found on <Reck et al. (1994)>. The main idea is that a given sequence of beam splitter transformations can execute any discrete finite-dimensional unitary operation."
   ],
   "cell_type": "markdown",
   "metadata": {}
  },
  {
   "cell_type": "code",
   "execution_count": 4,
   "metadata": {},
   "outputs": [],
   "source": [
    "def layer(theta, phi, wires):\n",
    "    M = len(wires)\n",
    "    phi_nonlinear = np.pi / 2\n",
    "\n",
    "    # Created the interferometer using a template\n",
    "    qml.templates.Interferometer(\n",
    "        theta, phi, np.zeros(M), wires=wires, mesh=\"triangular\",\n",
    "    )\n",
    "\n",
    "    # Creater the non-linear Kerr interaction layer\n",
    "    # The parameter for nonlinear interaction is constant\n",
    "    for i in wires:\n",
    "        qml.Kerr(phi_nonlinear, wires=i)"
   ]
  },
  {
   "cell_type": "code",
   "execution_count": 6,
   "metadata": {},
   "outputs": [],
   "source": [
    "# The full QONN is buid as a circuit\n",
    "# The parameters to be optimized are contained in var\n",
    "# Each element in var is a list of parameters theta and phi for a specific layer.\n",
    "\n",
    "# The decorator \"@qml.qnode(dev)\" indicates that the decorated function contains a quantum circuit bounded to a compatible device already created\n",
    "\n",
    "@qml.qnode(dev)\n",
    "def quantum_neural_net(var, x):\n",
    "    wires = list(range(len(x)))\n",
    "\n",
    "    # Encode input x into a sequence of quantum fock states\n",
    "    for i in wires:\n",
    "        qml.FockState(x[i], wires=i)\n",
    "\n",
    "    # \"layer\" subcircuits\n",
    "    for i, v in enumerate(var):\n",
    "        layer(v[: len(v) // 2], v[len(v) // 2 :], wires)\n",
    "\n",
    "    # At the end, the number operator is used to obtain the mean photon number in each mode\n",
    "    return [qml.expval(qml.NumberOperator(w)) for w in wires]"
   ]
  },
  {
   "source": [
    "As a cost function, a helper function is used to aid in the calculation of the normalized square loss of two vectors. If zero, both parameters are equal. If 1, they are fully orthogonal."
   ],
   "cell_type": "markdown",
   "metadata": {}
  },
  {
   "cell_type": "code",
   "execution_count": 7,
   "metadata": {},
   "outputs": [],
   "source": [
    "# User for several pairs of verctors\n",
    "def square_loss(labels, predictions):\n",
    "    term = 0\n",
    "    for l, p in zip(labels, predictions):\n",
    "        # Normalization of each vector\n",
    "        lnorm = l / np.linalg.norm(l)\n",
    "        pnorm = p / np.linalg.norm(p)\n",
    "\n",
    "        # The makes the inner product for a pair of vectors\n",
    "        term = term + np.abs(np.dot(lnorm, pnorm.T)) ** 2\n",
    "\n",
    "    # Returns the loss: 1 mminus the average of the inner products\n",
    "    return 1 - term / len(labels)"
   ]
  },
  {
   "source": [
    "Then, the cost function is defined. It uses the outputs from the QONN (predictions) for each input (data_inputs) and the calculates the square loss between the predictions ans the true outputs (labels)."
   ],
   "cell_type": "markdown",
   "metadata": {}
  },
  {
   "cell_type": "code",
   "execution_count": 9,
   "metadata": {},
   "outputs": [],
   "source": [
    "def cost(var, data_input, labels):\n",
    "    # Gets the predictions for data_input and then calculates the loss\n",
    "    predictions = np.array([quantum_neural_net(var, x) for x in data_input])\n",
    "    sl = square_loss(labels, predictions)\n",
    "\n",
    "    return sl"
   ]
  },
  {
   "source": [
    "## Optimizing the CNOT gate\n",
    "\n",
    "Now, the network can be optimized by choosing  a function from imput to output states.Four modes were chosen to use a gate of two qubits. In this case, the network is trained as a CNOT gate.\n",
    "\n",
    "Inputs and labels are then defined."
   ],
   "cell_type": "markdown",
   "metadata": {}
  },
  {
   "cell_type": "code",
   "execution_count": 10,
   "metadata": {},
   "outputs": [],
   "source": [
    "# Define the CNOT input-output states (dual-rail encoding) and initialize\n",
    "# them as non-differentiable.\n",
    "\n",
    "X = np.array([[1, 0, 1, 0],\n",
    "              [1, 0, 0, 1],\n",
    "              [0, 1, 1, 0],\n",
    "              [0, 1, 0, 1]], requires_grad=False)\n",
    "\n",
    "Y = np.array([[1, 0, 1, 0],\n",
    "              [1, 0, 0, 1],\n",
    "              [0, 1, 0, 1],\n",
    "              [0, 1, 1, 0]], requires_grad=False)"
   ]
  },
  {
   "source": [
    "Then:\n",
    "\n",
    "* Define the number of layers\n",
    "* Calculate and get the corresponding number of initial parameters to use. To better undestanding of that, it would be useful to check the definition of the interferometer defined in PennyLane.\n",
    "\n",
    "In the case bellow, with 4 modes, there are 4*(4-1)=12 variables per layer. This is the pposible number of interactions of the interferometes with a triangular layout."
   ],
   "cell_type": "markdown",
   "metadata": {}
  },
  {
   "cell_type": "code",
   "execution_count": 11,
   "metadata": {},
   "outputs": [
    {
     "output_type": "stream",
     "name": "stdout",
     "text": [
      "[[ 0.44649261  0.41210471 -4.74250452  5.83428451 -2.80530642  3.36008672\n   3.61030206  5.83685284 -2.64962557  1.15000548 -5.93954918  4.05653285]\n [ 5.41041372 -4.47735875  0.43822647  2.19782286 -3.81815685  1.91523848\n   0.90973825 -2.1355572  -3.85285685 -5.09985053  5.72977364  2.70602782]]\n"
     ]
    }
   ],
   "source": [
    "num_layers = 2\n",
    "M = len(X[0])\n",
    "num_variables_per_layer = M * (M - 1)\n",
    "\n",
    "var_init = (4 * np.random.rand(num_layers, num_variables_per_layer) - 2) * np.pi\n",
    "print(var_init)"
   ]
  },
  {
   "cell_type": "code",
   "execution_count": null,
   "metadata": {},
   "outputs": [],
   "source": [
    "from pennylane.optimize import AdamOptimizer\n",
    "\n",
    "opt = AdamOptimizer(0.01, beta1=0.9, beta2=0.999)\n",
    "\n",
    "var = var_init\n",
    "for it in range(200):\n",
    "    var = opt.step(lambda v: cost(v, X, Y), var)\n",
    "\n",
    "    if (it+1) % 20 == 0:\n",
    "        print(f\"Iter: {it+1:5d} | Cost: {cost(var, X, Y):0.7f} \")"
   ]
  },
  {
   "cell_type": "code",
   "execution_count": 12,
   "metadata": {},
   "outputs": [
    {
     "output_type": "error",
     "ename": "NameError",
     "evalue": "name 'var' is not defined",
     "traceback": [
      "\u001b[0;31m---------------------------------------------------------------------------\u001b[0m",
      "\u001b[0;31mNameError\u001b[0m                                 Traceback (most recent call last)",
      "\u001b[0;32m<ipython-input-12-c1b7f41f7a79>\u001b[0m in \u001b[0;36m<module>\u001b[0;34m\u001b[0m\n\u001b[0;32m----> 1\u001b[0;31m \u001b[0mprint\u001b[0m\u001b[0;34m(\u001b[0m\u001b[0;34mf\"The optimized parameters (layers, parameters):\\n {var}\\n\"\u001b[0m\u001b[0;34m)\u001b[0m\u001b[0;34m\u001b[0m\u001b[0;34m\u001b[0m\u001b[0m\n\u001b[0m\u001b[1;32m      2\u001b[0m \u001b[0;34m\u001b[0m\u001b[0m\n\u001b[1;32m      3\u001b[0m \u001b[0mY_pred\u001b[0m \u001b[0;34m=\u001b[0m \u001b[0mnp\u001b[0m\u001b[0;34m.\u001b[0m\u001b[0marray\u001b[0m\u001b[0;34m(\u001b[0m\u001b[0;34m[\u001b[0m\u001b[0mquantum_neural_net\u001b[0m\u001b[0;34m(\u001b[0m\u001b[0mvar\u001b[0m\u001b[0;34m,\u001b[0m \u001b[0mx\u001b[0m\u001b[0;34m)\u001b[0m \u001b[0;32mfor\u001b[0m \u001b[0mx\u001b[0m \u001b[0;32min\u001b[0m \u001b[0mX\u001b[0m\u001b[0;34m]\u001b[0m\u001b[0;34m)\u001b[0m\u001b[0;34m\u001b[0m\u001b[0;34m\u001b[0m\u001b[0m\n\u001b[1;32m      4\u001b[0m \u001b[0;32mfor\u001b[0m \u001b[0mi\u001b[0m\u001b[0;34m,\u001b[0m \u001b[0mx\u001b[0m \u001b[0;32min\u001b[0m \u001b[0menumerate\u001b[0m\u001b[0;34m(\u001b[0m\u001b[0mX\u001b[0m\u001b[0;34m)\u001b[0m\u001b[0;34m:\u001b[0m\u001b[0;34m\u001b[0m\u001b[0;34m\u001b[0m\u001b[0m\n\u001b[1;32m      5\u001b[0m     \u001b[0mprint\u001b[0m\u001b[0;34m(\u001b[0m\u001b[0;34mf\"{x} --> {Y_pred[i].round(2)}, should be {Y[i]}\"\u001b[0m\u001b[0;34m)\u001b[0m\u001b[0;34m\u001b[0m\u001b[0;34m\u001b[0m\u001b[0m\n",
      "\u001b[0;31mNameError\u001b[0m: name 'var' is not defined"
     ]
    }
   ],
   "source": [
    "print(f\"The optimized parameters (layers, parameters):\\n {var}\\n\")\n",
    "\n",
    "Y_pred = np.array([quantum_neural_net(var, x) for x in X])\n",
    "for i, x in enumerate(X):\n",
    "    print(f\"{x} --> {Y_pred[i].round(2)}, should be {Y[i]}\")"
   ]
  },
  {
   "cell_type": "code",
   "execution_count": 13,
   "metadata": {},
   "outputs": [
    {
     "output_type": "stream",
     "name": "stdout",
     "text": [
      " 0: ──|1⟩──────────────────────────────────────╭BS(-4.74, -2.65)───R(0)───────────────Kerr(1.57)──────────────────────────────────────────────────────────────────╭BS(0.438, -3.85)───R(0)──────────────Kerr(1.57)──────────────────────────────┤ ⟨n⟩ \n 1: ──|0⟩────────────────────╭BS(0.412, 5.84)──╰BS(-4.74, -2.65)──╭BS(-2.81, -5.94)───R(0)────────────Kerr(1.57)───────────────────────────────╭BS(-4.48, -2.14)──╰BS(0.438, -3.85)──╭BS(-3.82, 5.73)───R(0)────────────Kerr(1.57)──────────────┤ ⟨n⟩ \n 2: ──|1⟩──╭BS(0.446, 3.61)──╰BS(0.412, 5.84)──╭BS(5.83, 1.15)────╰BS(-2.81, -5.94)──╭BS(3.36, 4.06)──R(0)────────Kerr(1.57)──╭BS(5.41, 0.91)──╰BS(-4.48, -2.14)──╭BS(2.2, -5.1)─────╰BS(-3.82, 5.73)──╭BS(1.92, 2.71)──R(0)────────Kerr(1.57)──┤ ⟨n⟩ \n 3: ──|0⟩──╰BS(0.446, 3.61)────────────────────╰BS(5.83, 1.15)───────────────────────╰BS(3.36, 4.06)──R(0)────────Kerr(1.57)──╰BS(5.41, 0.91)─────────────────────╰BS(2.2, -5.1)───────────────────────╰BS(1.92, 2.71)──R(0)────────Kerr(1.57)──┤ ⟨n⟩ \n\n"
     ]
    }
   ],
   "source": [
    "# Finally, we can draw the resulting circuit for a given input\n",
    "quantum_neural_net(var_init, X[0])\n",
    "print(quantum_neural_net.draw())"
   ]
  },
  {
   "cell_type": "code",
   "execution_count": null,
   "metadata": {},
   "outputs": [],
   "source": []
  },
  {
   "cell_type": "markdown",
   "metadata": {
    "slideshow": {
     "slide_type": "slide"
    }
   },
   "source": [
    "# Variational Quantum Classifier\n",
    "* A circuit can be trained from labelled data to classify new data samples.\n",
    "* VQC can reproduce the parity function:\n",
    "$$ f : x \\in \\{0, 1\\}^{\\otimes n} \\longrightarrow y = \\begin{cases} 1 & \\text{if uneven number of ones in x} \\\\ 0 & \\text{otherwise} \\end{cases}$$"
   ]
  },
  {
   "cell_type": "code",
   "execution_count": 1,
   "metadata": {
    "slideshow": {
     "slide_type": "skip"
    }
   },
   "outputs": [],
   "source": [
    "import pennylane as qml\n",
    "import numpy as np\n",
    "from pennylane.optimize import NesterovMomentumOptimizer"
   ]
  },
  {
   "cell_type": "code",
   "execution_count": 2,
   "metadata": {
    "slideshow": {
     "slide_type": "subslide"
    }
   },
   "outputs": [],
   "source": [
    "# Create quantum device with four wires\n",
    "dev = qml.device(\"default.qubit\", wires=4)"
   ]
  },
  {
   "cell_type": "code",
   "execution_count": 3,
   "metadata": {
    "slideshow": {
     "slide_type": "subslide"
    }
   },
   "outputs": [],
   "source": [
    "def layer(W):\n",
    "    \n",
    "    qml.Rot(W[0, 0], W[0, 1], W[0, 2], wires=0)\n",
    "    qml.Rot(W[1, 0], W[1, 1], W[1, 2], wires=1)\n",
    "    qml.Rot(W[2, 0], W[2, 1], W[2, 2], wires=2)\n",
    "    qml.Rot(W[3, 0], W[3, 1], W[3, 2], wires=3)\n",
    "    \n",
    "    qml.CNOT(wires=[0, 1])\n",
    "    qml.CNOT(wires=[1, 2])\n",
    "    qml.CNOT(wires=[2, 3])\n",
    "    qml.CNOT(wires=[3, 0])"
   ]
  },
  {
   "cell_type": "code",
   "execution_count": null,
   "metadata": {},
   "outputs": [],
   "source": []
  }
 ],
 "metadata": {
  "celltoolbar": "Slideshow",
  "kernelspec": {
   "display_name": "Python 3.8.5 64-bit",
   "language": "python",
   "name": "python38564bitb3815da5702d4440bc227d38e6274b0c"
  },
  "language_info": {
   "codemirror_mode": {
    "name": "ipython",
    "version": 3
   },
   "file_extension": ".py",
   "mimetype": "text/x-python",
   "name": "python",
   "nbconvert_exporter": "python",
   "pygments_lexer": "ipython3",
   "version": "3.8.5-final"
  }
 },
 "nbformat": 4,
 "nbformat_minor": 4
}