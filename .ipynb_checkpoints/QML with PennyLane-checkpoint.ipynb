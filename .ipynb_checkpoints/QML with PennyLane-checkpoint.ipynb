{
 "cells": [
  {
   "cell_type": "markdown",
   "metadata": {
    "slideshow": {
     "slide_type": "slide"
    }
   },
   "source": [
    "# Quantum Machine Learning with PennyLane\n",
    "\n",
    "### Sergio Andrés Cotrino Sandoval & José Luis Falla León\n",
    "### Friday, March 5th, 2021\n",
    "### Chaos & Complexity Group\n",
    "### Universidad Nacional de Colombia"
   ]
  },
  {
   "cell_type": "markdown",
   "metadata": {
    "slideshow": {
     "slide_type": "slide"
    }
   },
   "source": [
    "## Table of Contents\n",
    "- Introduction to PennyLane\n",
    "- PennyLane Features\n",
    "    - Continuous-variable computing\n",
    "    - Fock state computing\n",
    "- Example 1: Optimizing a Quantum Optical Neural Network\n",
    "- Example 2: Variational Quantum Classifier\n",
    "- Crossover: PennyLane + Qiskit\n",
    "- References"
   ]
  },
  {
   "cell_type": "code",
   "execution_count": null,
   "metadata": {
    "slideshow": {
     "slide_type": "skip"
    }
   },
   "outputs": [],
   "source": []
  }
 ],
 "metadata": {
  "celltoolbar": "Slideshow",
  "kernelspec": {
   "display_name": "Python 3",
   "language": "python",
   "name": "python3"
  },
  "language_info": {
   "codemirror_mode": {
    "name": "ipython",
    "version": 3
   },
   "file_extension": ".py",
   "mimetype": "text/x-python",
   "name": "python",
   "nbconvert_exporter": "python",
   "pygments_lexer": "ipython3",
   "version": "3.8.5"
  }
 },
 "nbformat": 4,
 "nbformat_minor": 4
}
