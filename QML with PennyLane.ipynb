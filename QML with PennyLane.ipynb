{
 "cells": [
  {
   "cell_type": "markdown",
   "metadata": {
    "slideshow": {
     "slide_type": "slide"
    }
   },
   "source": [
    "# Quantum Machine Learning with PennyLane\n",
    "\n",
    "#### Sergio Andrés Cotrino Sandoval & José Luis Falla León\n",
    "#### Friday, March 5th, 2021\n",
    "#### Chaos & Complexity Group\n",
    "#### Universidad Nacional de Colombia"
   ]
  },
  {
   "cell_type": "markdown",
   "metadata": {
    "slideshow": {
     "slide_type": "slide"
    }
   },
   "source": [
    "## Table of Contents\n",
    "- Introduction to PennyLane\n",
    "- PennyLane Features\n",
    "    - Continuous-variable Architecture\n",
    "    - Qubit Architecture\n",
    "- Example 1: Optimizing a Quantum Optical Neural Network\n",
    "- Example 2: Variational Quantum Classifier\n",
    "- Crossover: PennyLane + Qiskit\n",
    "- References"
   ]
  },
  {
   "cell_type": "markdown",
   "metadata": {
    "slideshow": {
     "slide_type": "slide"
    }
   },
   "source": [
    "# Introduction to PennyLane\n",
    "- Cross-platform, open-source, Python3 library for differentiable programming of quantum computers.\n",
    "- Facilitates the optimization of both quantum and hybrid quantum-classical algorithms.\n",
    "- PennyLane can, in principle, be used with any gate-based quantum computing platform as a backend, including both qubit and continuous-variable architectures.\n",
    "- PennyLane-Qiskit plugin allows for implementation of quantum machine learning algorithms in IBMQ backends."
   ]
  },
  {
   "cell_type": "markdown",
   "metadata": {
    "slideshow": {
     "slide_type": "slide"
    }
   },
   "source": [
    "# Continuous Variables"
   ]
  },
  {
   "cell_type": "markdown",
   "metadata": {
    "slideshow": {
     "slide_type": "slide"
    }
   },
   "source": [
    "# Qubit"
   ]
  },
  {
   "cell_type": "markdown",
   "metadata": {
    "slideshow": {
     "slide_type": "slide"
    }
   },
   "source": [
    "# Variational Quantum Classifier\n",
    "- A circuit can be trained from labelled data to classify new data samples.\n",
    "- First, show that VQC can reproduce the parity function:\n",
    "$$ f : x \\in \\{0, 1\\}^{\\otimes n} \\longrightarrow y = \\begin{cases} 1 & \\text{if uneven number of ones in x} \\\\ 0 & \\text{otherwise} \\end{cases}$$\n",
    "- This example demonstrates how to encode binary inputs into the initial state of the variational circuit."
   ]
  },
  {
   "cell_type": "code",
   "execution_count": 1,
   "metadata": {
    "slideshow": {
     "slide_type": "skip"
    }
   },
   "outputs": [],
   "source": [
    "import pennylane as qml\n",
    "import matplotlib.pyplot as plt\n",
    "from pennylane import numpy as np\n",
    "from qiskit import IBMQ\n",
    "from pennylane.optimize import NesterovMomentumOptimizer"
   ]
  },
  {
   "cell_type": "markdown",
   "metadata": {
    "slideshow": {
     "slide_type": "slide"
    }
   },
   "source": [
    "## Fitting the parity function\n",
    "\n",
    "- First, we create a quantum device (or node) with four wires."
   ]
  },
  {
   "cell_type": "code",
   "execution_count": 2,
   "metadata": {
    "slideshow": {
     "slide_type": "-"
    }
   },
   "outputs": [],
   "source": [
    "dev = qml.device(\"default.qubit\", wires=4)"
   ]
  },
  {
   "cell_type": "markdown",
   "metadata": {
    "slideshow": {
     "slide_type": "slide"
    }
   },
   "source": [
    "- Variational classifiers usually define a \"layer\" or a \"block\", which is an elementary circuit that gets repeated to build the variational circuit.\n",
    "- This circuit layer consists of an arbitrary rotation on every qubit, as well as CNOT gates that entangle each qubit with its neighbor."
   ]
  },
  {
   "cell_type": "code",
   "execution_count": 3,
   "metadata": {
    "slideshow": {
     "slide_type": "-"
    }
   },
   "outputs": [],
   "source": [
    "def layer(W):\n",
    "    \n",
    "    qml.Rot(W[0, 0], W[0, 1], W[0, 2], wires=0)\n",
    "    qml.Rot(W[1, 0], W[1, 1], W[1, 2], wires=1)\n",
    "    qml.Rot(W[2, 0], W[2, 1], W[2, 2], wires=2)\n",
    "    qml.Rot(W[3, 0], W[3, 1], W[3, 2], wires=3)\n",
    "    \n",
    "    qml.CNOT(wires=[0, 1])\n",
    "    qml.CNOT(wires=[1, 2])\n",
    "    qml.CNOT(wires=[2, 3])\n",
    "    qml.CNOT(wires=[3, 0])"
   ]
  },
  {
   "cell_type": "markdown",
   "metadata": {
    "slideshow": {
     "slide_type": "slide"
    }
   },
   "source": [
    "- To encode data inputs x into the circuit, we use PennyLane's BasisState, which prepares a computational basis state that has 1s where x has 1s:\n",
    "\n",
    "$$ x = 0101 \\longrightarrow \\left|\\psi\\right\\rangle = \\left|0101\\right\\rangle$$\n",
    "\n",
    "- Now we define the quantum node as a state preparation routine, followed by a repetition of the layer structure."
   ]
  },
  {
   "cell_type": "code",
   "execution_count": 4,
   "metadata": {
    "slideshow": {
     "slide_type": "skip"
    }
   },
   "outputs": [],
   "source": [
    "def state_preparation(x):\n",
    "    qml.BasisState(x, wires=[0, 1, 2, 3])"
   ]
  },
  {
   "cell_type": "code",
   "execution_count": 5,
   "metadata": {},
   "outputs": [],
   "source": [
    "@qml.qnode(dev)\n",
    "def circuit(weights, x):\n",
    "    \n",
    "    state_preparation(x)\n",
    "    \n",
    "    for W in weights:\n",
    "        layer(W)\n",
    "        \n",
    "    return qml.expval(qml.PauliZ(0))"
   ]
  },
  {
   "cell_type": "code",
   "execution_count": 6,
   "metadata": {
    "slideshow": {
     "slide_type": "skip"
    }
   },
   "outputs": [],
   "source": [
    "def variational_classifier(var, x):\n",
    "    weights = var[0]\n",
    "    bias = var[1]\n",
    "    return circuit(weights, x) + bias"
   ]
  },
  {
   "cell_type": "markdown",
   "metadata": {
    "slideshow": {
     "slide_type": "slide"
    }
   },
   "source": [
    "### Cost Function\n",
    "- In standar supervised learning, a square loss, which measures the distance between target labels and model predictions, is used as a cost function.\n",
    "- To monitor how many inputs the classifier predicted correctly, we use an accuracy measure given target labels and model predictions."
   ]
  },
  {
   "cell_type": "code",
   "execution_count": 7,
   "metadata": {
    "slideshow": {
     "slide_type": "subslide"
    }
   },
   "outputs": [],
   "source": [
    "def square_loss(labels, predictions):\n",
    "    \n",
    "    loss = 0\n",
    "    \n",
    "    for l, p in zip(labels, predictions):\n",
    "        loss = loss + (1 - p) ** 2\n",
    "        \n",
    "    loss = loss / len(labels)\n",
    "    \n",
    "    return loss"
   ]
  },
  {
   "cell_type": "code",
   "execution_count": 8,
   "metadata": {
    "slideshow": {
     "slide_type": "subslide"
    }
   },
   "outputs": [],
   "source": [
    "def accuracy(labels, predictions):\n",
    "    \n",
    "    loss = 0\n",
    "    \n",
    "    for l, p in zip(labels, predictions):\n",
    "        if abs(1 - p) < 1e-5:\n",
    "            loss = loss + 1\n",
    "        \n",
    "    loss = loss / len(labels)\n",
    "    \n",
    "    return loss"
   ]
  },
  {
   "cell_type": "code",
   "execution_count": 9,
   "metadata": {
    "slideshow": {
     "slide_type": "skip"
    }
   },
   "outputs": [],
   "source": [
    "def cost(var, X, Y):\n",
    "    \n",
    "    predictions = [variational_classifier(var, x) for x in X]\n",
    "    return square_loss(Y, predictions)"
   ]
  },
  {
   "cell_type": "code",
   "execution_count": 10,
   "metadata": {
    "slideshow": {
     "slide_type": "skip"
    }
   },
   "outputs": [
    {
     "name": "stdout",
     "output_type": "stream",
     "text": [
      "X = [0. 0. 0. 0.], Y = -1\n",
      "X = [0. 0. 0. 1.], Y =  1\n",
      "X = [0. 0. 1. 0.], Y =  1\n",
      "X = [0. 0. 1. 1.], Y = -1\n",
      "X = [0. 1. 0. 0.], Y =  1\n",
      "...\n"
     ]
    }
   ],
   "source": [
    "data = np.loadtxt(\"parity.txt\")\n",
    "X = np.array(data[:, :-1], requires_grad=False)\n",
    "Y = np.array(data[:, -1], requires_grad=False)\n",
    "Y = Y * 2 - np.ones(len(Y))\n",
    "\n",
    "for i in range(5):\n",
    "    print(\"X = {}, Y = {: d}\".format(X[i], int(Y[i])))\n",
    "\n",
    "print(\"...\")"
   ]
  },
  {
   "cell_type": "code",
   "execution_count": 11,
   "metadata": {
    "slideshow": {
     "slide_type": "skip"
    }
   },
   "outputs": [
    {
     "name": "stdout",
     "output_type": "stream",
     "text": [
      "(tensor([[[ 0.01764052,  0.00400157,  0.00978738],\n",
      "         [ 0.02240893,  0.01867558, -0.00977278],\n",
      "         [ 0.00950088, -0.00151357, -0.00103219],\n",
      "         [ 0.00410599,  0.00144044,  0.01454274]],\n",
      "\n",
      "        [[ 0.00761038,  0.00121675,  0.00443863],\n",
      "         [ 0.00333674,  0.01494079, -0.00205158],\n",
      "         [ 0.00313068, -0.00854096, -0.0255299 ],\n",
      "         [ 0.00653619,  0.00864436, -0.00742165]]], requires_grad=True), 0.0)\n"
     ]
    }
   ],
   "source": [
    "np.random.seed(0)\n",
    "num_qubits = 4\n",
    "num_layers = 2\n",
    "var_init = (0.01 * np.random.randn(num_layers, num_qubits, 3), 0.0)\n",
    "\n",
    "print(var_init)"
   ]
  },
  {
   "cell_type": "markdown",
   "metadata": {
    "slideshow": {
     "slide_type": "slide"
    }
   },
   "source": [
    "## Optimization\n",
    "\n",
    "- Variables are initialized randomly (first variable in list is used as bias; the rest are fed into the gates of the variational circuit).\n",
    "- PennyLane has integrated optimizers: for this particular case, we use the Nesterov Momentum optimizer.\n",
    "- The accuracy is tracked by computing the outputs of the variational classifier and turning them into predictions in $\\{-1,1\\}$ by taking the sign of the output."
   ]
  },
  {
   "cell_type": "code",
   "execution_count": 12,
   "metadata": {
    "slideshow": {
     "slide_type": "skip"
    }
   },
   "outputs": [],
   "source": [
    "opt = NesterovMomentumOptimizer(0.5)\n",
    "batch_size = 5"
   ]
  },
  {
   "cell_type": "code",
   "execution_count": 13,
   "metadata": {
    "slideshow": {
     "slide_type": "subslide"
    }
   },
   "outputs": [
    {
     "name": "stdout",
     "output_type": "stream",
     "text": [
      "Iter:     1 | Cost: 1.9985253 | Accuracy: 0.5000000 \n",
      "Iter:     2 | Cost: 1.0364115 | Accuracy: 1.0000000 \n",
      "Iter:     3 | Cost: 1.3452707 | Accuracy: 1.0000000 \n",
      "Iter:     4 | Cost: 1.9515917 | Accuracy: 1.0000000 \n",
      "Iter:     5 | Cost: 0.8491429 | Accuracy: 0.5000000 \n",
      "Iter:     6 | Cost: 0.7826443 | Accuracy: 0.5000000 \n",
      "Iter:     7 | Cost: 0.4137376 | Accuracy: 0.8750000 \n",
      "Iter:     8 | Cost: 0.0751646 | Accuracy: 1.0000000 \n",
      "Iter:     9 | Cost: 0.0422179 | Accuracy: 1.0000000 \n",
      "Iter:    10 | Cost: 0.0270981 | Accuracy: 1.0000000 \n",
      "Iter:    11 | Cost: 0.0115996 | Accuracy: 1.0000000 \n",
      "Iter:    12 | Cost: 0.0033051 | Accuracy: 1.0000000 \n",
      "Iter:    13 | Cost: 0.0002077 | Accuracy: 1.0000000 \n",
      "Iter:    14 | Cost: 0.0012965 | Accuracy: 1.0000000 \n",
      "Iter:    15 | Cost: 0.0041511 | Accuracy: 1.0000000 \n",
      "Iter:    16 | Cost: 0.0012049 | Accuracy: 1.0000000 \n",
      "Iter:    17 | Cost: 0.0003573 | Accuracy: 1.0000000 \n",
      "Iter:    18 | Cost: 0.0004377 | Accuracy: 1.0000000 \n",
      "Iter:    19 | Cost: 0.0002229 | Accuracy: 1.0000000 \n",
      "Iter:    20 | Cost: 0.0001829 | Accuracy: 1.0000000 \n",
      "Iter:    21 | Cost: 0.0002208 | Accuracy: 1.0000000 \n",
      "Iter:    22 | Cost: 0.0001985 | Accuracy: 1.0000000 \n",
      "Iter:    23 | Cost: 0.0001590 | Accuracy: 1.0000000 \n",
      "Iter:    24 | Cost: 0.0000946 | Accuracy: 1.0000000 \n",
      "Iter:    25 | Cost: 0.0004331 | Accuracy: 1.0000000 \n"
     ]
    }
   ],
   "source": [
    "var = var_init\n",
    "for it in range(25):\n",
    "    \n",
    "    batch_index = np.random.randint(0, len(X), (batch_size,))\n",
    "    X_batch = X[batch_index]\n",
    "    Y_batch = Y[batch_index]\n",
    "    var = opt.step(lambda v: cost(v, X_batch, Y_batch), var)\n",
    "    \n",
    "    predictions = [np.sign(variational_classifier(var, x)) for x in X]\n",
    "    acc = accuracy(Y, predictions)\n",
    "    \n",
    "    print(\n",
    "        \"Iter: {:5d} | Cost: {:0.7f} | Accuracy: {:0.7f} \".format(\n",
    "            it + 1, cost(var, X, Y), acc\n",
    "        )\n",
    "    )"
   ]
  },
  {
   "cell_type": "markdown",
   "metadata": {
    "slideshow": {
     "slide_type": "slide"
    }
   },
   "source": [
    "## Iris Classification\n",
    "- For this classification problem, we need to encode real-valued vectors into the amplitudes of a quantum state.\n",
    "- State preparation is not as simple as representing a bitstring with a basis state: every input x has to be translated into a set of angles which can get fed into a small routine for state preparation."
   ]
  },
  {
   "cell_type": "code",
   "execution_count": 14,
   "metadata": {
    "slideshow": {
     "slide_type": "skip"
    }
   },
   "outputs": [],
   "source": [
    "dev2 = qml.device(\"default.qubit\", wires=2)"
   ]
  },
  {
   "cell_type": "code",
   "execution_count": 15,
   "metadata": {
    "slideshow": {
     "slide_type": "skip"
    }
   },
   "outputs": [],
   "source": [
    "def get_angles(x):\n",
    "    \n",
    "    beta0 = 2 * np.arcsin(np.sqrt(x[1] ** 2) / np.sqrt(x[0] ** 2 + x[1] ** 2 + 1e-12))\n",
    "    beta1 = 2 * np.arcsin(np.sqrt(x[3] ** 2) / np.sqrt(x[2] ** 2 + x[3] ** 2 + 1e-12))\n",
    "    beta2 = 2 * np.arcsin(np.sqrt(x[2] ** 2 + x[3] ** 2) / np.sqrt(x[0] ** 2 + x[1] ** 2 + x[2] ** 2 + x[3] ** 2))\n",
    "    \n",
    "    return np.array([beta2, -beta1 / 2, beta1 / 2, -beta0 / 2, beta0 / 2])\n",
    "\n",
    "def state_preparation2(a):\n",
    "    qml.RY(a[0], wires=0)\n",
    "    \n",
    "    qml.CNOT(wires=[0, 1])\n",
    "    qml.RY(a[1], wires=1)\n",
    "    qml.CNOT(wires=[0, 1])\n",
    "    qml.RY(a[2], wires=1)\n",
    "    \n",
    "    qml.PauliX(wires=0)\n",
    "    qml.CNOT(wires=[0, 1])\n",
    "    qml.RY(a[3], wires=1)\n",
    "    qml.CNOT(wires=[0, 1])\n",
    "    qml.RY(a[4], wires=1)\n",
    "    qml.PauliX(wires=0)\n",
    "    "
   ]
  },
  {
   "cell_type": "code",
   "execution_count": 16,
   "metadata": {
    "slideshow": {
     "slide_type": "skip"
    }
   },
   "outputs": [
    {
     "name": "stdout",
     "output_type": "stream",
     "text": [
      "x               :  [0.53896774 0.79503606 0.27826503 0.        ]\n",
      "angles          :  [ 0.56397465 -0.          0.         -0.97504604  0.97504604]\n",
      "amplitude vector:  [ 5.38967743e-01  7.95036065e-01  2.78265032e-01 -2.77555756e-17]\n"
     ]
    }
   ],
   "source": [
    "x = np.array([0.53896774, 0.79503606, 0.27826503, 0.0], requires_grad=False)\n",
    "ang = get_angles(x)\n",
    "\n",
    "@qml.qnode(dev2)\n",
    "def test(angles):\n",
    "    \n",
    "    state_preparation2(angles)\n",
    "    \n",
    "    return qml.expval(qml.PauliZ(0))\n",
    "\n",
    "test(ang)\n",
    "\n",
    "print(\"x               : \", x)\n",
    "print(\"angles          : \", ang)\n",
    "print(\"amplitude vector: \", np.real(dev2.state))"
   ]
  },
  {
   "cell_type": "code",
   "execution_count": 17,
   "metadata": {
    "slideshow": {
     "slide_type": "skip"
    }
   },
   "outputs": [],
   "source": [
    "def layer2(W):\n",
    "    \n",
    "    qml.Rot(W[0, 0], W[0, 1], W[0, 2], wires=0)\n",
    "    qml.Rot(W[1, 0], W[1, 1], W[1, 2], wires=1)\n",
    "    qml.CNOT(wires=[0, 1])"
   ]
  },
  {
   "cell_type": "code",
   "execution_count": 18,
   "metadata": {
    "slideshow": {
     "slide_type": "skip"
    }
   },
   "outputs": [],
   "source": [
    "@qml.qnode(dev2)\n",
    "def circuit2(weights, angles):\n",
    "    state_preparation2(angles)\n",
    "    \n",
    "    for W in weights:\n",
    "        layer2(W)\n",
    "    \n",
    "    return qml.expval(qml.PauliZ(0))\n",
    "\n",
    "def variational_classifier2(var, angles):\n",
    "    weights = var[0]\n",
    "    bias = var[1]\n",
    "    return circuit2(weights, angles) + bias\n",
    "\n",
    "def cost2(weights, features, labels):\n",
    "    predictions = [variational_classifier2(weights, f) for f in features]\n",
    "    return square_loss(labels, predictions)"
   ]
  },
  {
   "cell_type": "code",
   "execution_count": 19,
   "metadata": {
    "slideshow": {
     "slide_type": "skip"
    }
   },
   "outputs": [
    {
     "name": "stdout",
     "output_type": "stream",
     "text": [
      "First X sample (original)     :  [0.4  0.75]\n",
      "First X sample (padded)       :  [0.4  0.75 0.3  0.  ]\n",
      "First X sample (normalized)   :  [0.44376016 0.83205029 0.33282012 0.        ]\n",
      "First features sample         :  [ 0.67858523 -0.          0.         -1.080839    1.080839  ]\n"
     ]
    }
   ],
   "source": [
    "data = np.loadtxt(\"iris_classes1and2_scaled.txt\")\n",
    "X = data[:, 0:2]\n",
    "print('First X sample (original)     : ', X[0])\n",
    "\n",
    "padding = 0.3 * np.ones((len(X), 1))\n",
    "X_pad = np.c_[np.c_[X, padding], np.zeros((len(X), 1))]\n",
    "print(\"First X sample (padded)       : \", X_pad[0])\n",
    "\n",
    "normalization = np.sqrt(np.sum(X_pad ** 2, -1))\n",
    "X_norm = (X_pad.T / normalization).T\n",
    "print(\"First X sample (normalized)   : \", X_norm[0])\n",
    "\n",
    "features = np.array([get_angles(x) for x in X_norm])\n",
    "print(\"First features sample         : \", features[0])\n",
    "\n",
    "Y = data[:, -1]"
   ]
  },
  {
   "cell_type": "code",
   "execution_count": 20,
   "metadata": {
    "slideshow": {
     "slide_type": "subslide"
    }
   },
   "outputs": [
    {
     "data": {
      "image/png": "[encoded data removed]",
      "text/plain": [
       "<Figure size 432x288 with 1 Axes>"
      ]
     },
     "metadata": {
      "needs_background": "light"
     },
     "output_type": "display_data"
    }
   ],
   "source": [
    "import matplotlib.pyplot as plt\n",
    "\n",
    "plt.figure()\n",
    "plt.scatter(X[:, 0][Y == 1], X[:, 1][Y == 1], c=\"b\", marker=\"o\", edgecolors=\"k\")\n",
    "plt.scatter(X[:, 0][Y == -1], X[:, 1][Y == -1], c=\"r\", marker=\"o\", edgecolors=\"k\")\n",
    "plt.title(\"Original data\")\n",
    "plt.show()"
   ]
  },
  {
   "cell_type": "code",
   "execution_count": 21,
   "metadata": {
    "slideshow": {
     "slide_type": "skip"
    }
   },
   "outputs": [],
   "source": [
    "np.random.seed(0)\n",
    "num_data = len(Y)\n",
    "num_train = int(0.75 * num_data)\n",
    "index = np.random.permutation(range(num_data))\n",
    "feats_train = features[index[:num_train]]\n",
    "Y_train = Y[index[:num_train]]\n",
    "feats_val = features[index[num_train:]]\n",
    "Y_val = Y[index[num_train:]]\n",
    "\n",
    "# We need these later for plotting\n",
    "X_train = X[index[:num_train]]\n",
    "X_val = X[index[num_train:]]"
   ]
  },
  {
   "cell_type": "code",
   "execution_count": 22,
   "metadata": {
    "slideshow": {
     "slide_type": "skip"
    }
   },
   "outputs": [],
   "source": [
    "num_qubits = 2\n",
    "num_layers = 6\n",
    "var_init = (0.01 * np.random.randn(num_layers, num_qubits, 3), 0.0)"
   ]
  },
  {
   "cell_type": "code",
   "execution_count": 23,
   "metadata": {
    "slideshow": {
     "slide_type": "skip"
    }
   },
   "outputs": [
    {
     "name": "stdout",
     "output_type": "stream",
     "text": [
      "Iter:     1 | Cost: 0.1009213 | Acc train: 0.9866667 | Acc validation: 1.0000000 \n",
      "Iter:     2 | Cost: 0.0925796 | Acc train: 0.9866667 | Acc validation: 1.0000000 \n",
      "Iter:     3 | Cost: 0.0801384 | Acc train: 0.9866667 | Acc validation: 1.0000000 \n",
      "Iter:     4 | Cost: 0.0672340 | Acc train: 0.9866667 | Acc validation: 1.0000000 \n",
      "Iter:     5 | Cost: 0.0559089 | Acc train: 0.9866667 | Acc validation: 1.0000000 \n",
      "Iter:     6 | Cost: 0.0464627 | Acc train: 0.9866667 | Acc validation: 1.0000000 \n",
      "Iter:     7 | Cost: 0.0365217 | Acc train: 0.9866667 | Acc validation: 1.0000000 \n",
      "Iter:     8 | Cost: 0.0299786 | Acc train: 0.9866667 | Acc validation: 1.0000000 \n",
      "Iter:     9 | Cost: 0.0257101 | Acc train: 0.9866667 | Acc validation: 1.0000000 \n",
      "Iter:    10 | Cost: 0.0232234 | Acc train: 0.9866667 | Acc validation: 1.0000000 \n",
      "Iter:    11 | Cost: 0.0217870 | Acc train: 0.9866667 | Acc validation: 1.0000000 \n",
      "Iter:    12 | Cost: 0.0209337 | Acc train: 1.0000000 | Acc validation: 1.0000000 \n",
      "Iter:    13 | Cost: 0.0203194 | Acc train: 1.0000000 | Acc validation: 1.0000000 \n",
      "Iter:    14 | Cost: 0.0197361 | Acc train: 1.0000000 | Acc validation: 1.0000000 \n",
      "Iter:    15 | Cost: 0.0190920 | Acc train: 1.0000000 | Acc validation: 1.0000000 \n",
      "Iter:    16 | Cost: 0.0182360 | Acc train: 1.0000000 | Acc validation: 1.0000000 \n",
      "Iter:    17 | Cost: 0.0172821 | Acc train: 1.0000000 | Acc validation: 1.0000000 \n",
      "Iter:    18 | Cost: 0.0161822 | Acc train: 1.0000000 | Acc validation: 1.0000000 \n",
      "Iter:    19 | Cost: 0.0150095 | Acc train: 1.0000000 | Acc validation: 1.0000000 \n",
      "Iter:    20 | Cost: 0.0137919 | Acc train: 1.0000000 | Acc validation: 1.0000000 \n",
      "Iter:    21 | Cost: 0.0124108 | Acc train: 1.0000000 | Acc validation: 1.0000000 \n",
      "Iter:    22 | Cost: 0.0110234 | Acc train: 1.0000000 | Acc validation: 1.0000000 \n",
      "Iter:    23 | Cost: 0.0097794 | Acc train: 1.0000000 | Acc validation: 1.0000000 \n",
      "Iter:    24 | Cost: 0.0087268 | Acc train: 1.0000000 | Acc validation: 1.0000000 \n",
      "Iter:    25 | Cost: 0.0078831 | Acc train: 1.0000000 | Acc validation: 1.0000000 \n",
      "Iter:    26 | Cost: 0.0072451 | Acc train: 1.0000000 | Acc validation: 1.0000000 \n",
      "Iter:    27 | Cost: 0.0068122 | Acc train: 1.0000000 | Acc validation: 1.0000000 \n",
      "Iter:    28 | Cost: 0.0065615 | Acc train: 1.0000000 | Acc validation: 1.0000000 \n",
      "Iter:    29 | Cost: 0.0064144 | Acc train: 1.0000000 | Acc validation: 1.0000000 \n",
      "Iter:    30 | Cost: 0.0063601 | Acc train: 1.0000000 | Acc validation: 1.0000000 \n",
      "Iter:    31 | Cost: 0.0063327 | Acc train: 1.0000000 | Acc validation: 1.0000000 \n",
      "Iter:    32 | Cost: 0.0062561 | Acc train: 1.0000000 | Acc validation: 1.0000000 \n",
      "Iter:    33 | Cost: 0.0059863 | Acc train: 1.0000000 | Acc validation: 1.0000000 \n",
      "Iter:    34 | Cost: 0.0056882 | Acc train: 1.0000000 | Acc validation: 1.0000000 \n",
      "Iter:    35 | Cost: 0.0054326 | Acc train: 1.0000000 | Acc validation: 1.0000000 \n",
      "Iter:    36 | Cost: 0.0052101 | Acc train: 1.0000000 | Acc validation: 1.0000000 \n",
      "Iter:    37 | Cost: 0.0050157 | Acc train: 1.0000000 | Acc validation: 1.0000000 \n",
      "Iter:    38 | Cost: 0.0048611 | Acc train: 1.0000000 | Acc validation: 1.0000000 \n",
      "Iter:    39 | Cost: 0.0047473 | Acc train: 1.0000000 | Acc validation: 1.0000000 \n",
      "Iter:    40 | Cost: 0.0046231 | Acc train: 1.0000000 | Acc validation: 1.0000000 \n",
      "Iter:    41 | Cost: 0.0045313 | Acc train: 1.0000000 | Acc validation: 1.0000000 \n",
      "Iter:    42 | Cost: 0.0044644 | Acc train: 1.0000000 | Acc validation: 1.0000000 \n",
      "Iter:    43 | Cost: 0.0044112 | Acc train: 1.0000000 | Acc validation: 1.0000000 \n",
      "Iter:    44 | Cost: 0.0043775 | Acc train: 1.0000000 | Acc validation: 1.0000000 \n",
      "Iter:    45 | Cost: 0.0043215 | Acc train: 1.0000000 | Acc validation: 1.0000000 \n",
      "Iter:    46 | Cost: 0.0042821 | Acc train: 1.0000000 | Acc validation: 1.0000000 \n",
      "Iter:    47 | Cost: 0.0042442 | Acc train: 1.0000000 | Acc validation: 1.0000000 \n",
      "Iter:    48 | Cost: 0.0042214 | Acc train: 1.0000000 | Acc validation: 1.0000000 \n",
      "Iter:    49 | Cost: 0.0042161 | Acc train: 1.0000000 | Acc validation: 1.0000000 \n",
      "Iter:    50 | Cost: 0.0042125 | Acc train: 1.0000000 | Acc validation: 1.0000000 \n",
      "Iter:    51 | Cost: 0.0041742 | Acc train: 1.0000000 | Acc validation: 1.0000000 \n",
      "Iter:    52 | Cost: 0.0041211 | Acc train: 1.0000000 | Acc validation: 1.0000000 \n",
      "Iter:    53 | Cost: 0.0040755 | Acc train: 1.0000000 | Acc validation: 1.0000000 \n",
      "Iter:    54 | Cost: 0.0040547 | Acc train: 1.0000000 | Acc validation: 1.0000000 \n",
      "Iter:    55 | Cost: 0.0040560 | Acc train: 1.0000000 | Acc validation: 1.0000000 \n",
      "Iter:    56 | Cost: 0.0040768 | Acc train: 1.0000000 | Acc validation: 1.0000000 \n",
      "Iter:    57 | Cost: 0.0040981 | Acc train: 1.0000000 | Acc validation: 1.0000000 \n",
      "Iter:    58 | Cost: 0.0041147 | Acc train: 1.0000000 | Acc validation: 1.0000000 \n",
      "Iter:    59 | Cost: 0.0041155 | Acc train: 1.0000000 | Acc validation: 1.0000000 \n",
      "Iter:    60 | Cost: 0.0041145 | Acc train: 1.0000000 | Acc validation: 1.0000000 \n"
     ]
    }
   ],
   "source": [
    "opt = NesterovMomentumOptimizer(0.01)\n",
    "batch_size = 5\n",
    "\n",
    "# train the variational classifier\n",
    "var = var_init\n",
    "for it in range(60):\n",
    "\n",
    "    # Update the weights by one optimizer step\n",
    "    batch_index = np.random.randint(0, num_train, (batch_size,))\n",
    "    feats_train_batch = feats_train[batch_index]\n",
    "    Y_train_batch = Y_train[batch_index]\n",
    "    var = opt.step(lambda v: cost2(v, feats_train_batch, Y_train_batch), var)\n",
    "\n",
    "    # Compute predictions on train and validation set\n",
    "    predictions_train = [np.sign(variational_classifier2(var, f)) for f in feats_train]\n",
    "    predictions_val = [np.sign(variational_classifier2(var, f)) for f in feats_val]\n",
    "\n",
    "    # Compute accuracy on train and validation set\n",
    "    acc_train = accuracy(Y_train, predictions_train)\n",
    "    acc_val = accuracy(Y_val, predictions_val)\n",
    "\n",
    "    print(\n",
    "        \"Iter: {:5d} | Cost: {:0.7f} | Acc train: {:0.7f} | Acc validation: {:0.7f} \"\n",
    "        \"\".format(it + 1, cost2(var, features, Y), acc_train, acc_val)\n",
    "    )"
   ]
  },
  {
   "cell_type": "code",
   "execution_count": 24,
   "metadata": {
    "slideshow": {
     "slide_type": "skip"
    }
   },
   "outputs": [
    {
     "data": {
      "image/png": "[encoded data removed]",
      "text/plain": [
       "<Figure size 432x288 with 2 Axes>"
      ]
     },
     "metadata": {
      "needs_background": "light"
     },
     "output_type": "display_data"
    }
   ],
   "source": [
    "plt.figure()\n",
    "cm = plt.cm.RdBu\n",
    "\n",
    "# make data for decision regions\n",
    "xx, yy = np.meshgrid(np.linspace(0.0, 1.5, 20), np.linspace(0.0, 1.5, 20))\n",
    "X_grid = [np.array([x, y]) for x, y in zip(xx.flatten(), yy.flatten())]\n",
    "\n",
    "# preprocess grid points like data inputs above\n",
    "padding = 0.3 * np.ones((len(X_grid), 1))\n",
    "X_grid = np.c_[np.c_[X_grid, padding], np.zeros((len(X_grid), 1))]  # pad each input\n",
    "normalization = np.sqrt(np.sum(X_grid ** 2, -1))\n",
    "X_grid = (X_grid.T / normalization).T  # normalize each input\n",
    "features_grid = np.array(\n",
    "    [get_angles(x) for x in X_grid]\n",
    ")  # angles for state preparation are new features\n",
    "predictions_grid = [variational_classifier2(var, f) for f in features_grid]\n",
    "Z = np.reshape(predictions_grid, xx.shape)\n",
    "\n",
    "# plot decision regions\n",
    "cnt = plt.contourf(\n",
    "    xx, yy, Z, levels=np.arange(-1, 1.1, 0.1), cmap=cm, alpha=0.8, extend=\"both\"\n",
    ")\n",
    "plt.contour(\n",
    "    xx, yy, Z, levels=[0.0], colors=(\"black\",), linestyles=(\"--\",), linewidths=(0.8,)\n",
    ")\n",
    "plt.colorbar(cnt, ticks=[-1, 0, 1])\n",
    "\n",
    "# plot data\n",
    "plt.scatter(\n",
    "    X_train[:, 0][Y_train == 1],\n",
    "    X_train[:, 1][Y_train == 1],\n",
    "    c=\"b\",\n",
    "    marker=\"o\",\n",
    "    edgecolors=\"k\",\n",
    "    label=\"class 1 train\",\n",
    ")\n",
    "plt.scatter(\n",
    "    X_val[:, 0][Y_val == 1],\n",
    "    X_val[:, 1][Y_val == 1],\n",
    "    c=\"b\",\n",
    "    marker=\"^\",\n",
    "    edgecolors=\"k\",\n",
    "    label=\"class 1 validation\",\n",
    ")\n",
    "plt.scatter(\n",
    "    X_train[:, 0][Y_train == -1],\n",
    "    X_train[:, 1][Y_train == -1],\n",
    "    c=\"r\",\n",
    "    marker=\"o\",\n",
    "    edgecolors=\"k\",\n",
    "    label=\"class -1 train\",\n",
    ")\n",
    "plt.scatter(\n",
    "    X_val[:, 0][Y_val == -1],\n",
    "    X_val[:, 1][Y_val == -1],\n",
    "    c=\"r\",\n",
    "    marker=\"^\",\n",
    "    edgecolors=\"k\",\n",
    "    label=\"class -1 validation\",\n",
    ")\n",
    "\n",
    "plt.legend()\n",
    "plt.show()"
   ]
  },
  {
   "cell_type": "markdown",
   "metadata": {
    "slideshow": {
     "slide_type": "slide"
    }
   },
   "source": [
    "# PennyLane + Qiskit Integration\n",
    "- The PennyLane-Qiskit module plugin integrates Qiskit's quantum computing framework with PannyLane's quantum machine learning capabilities.\n",
    "- Requirements: IBMid + API token\n",
    "- Now, we only need to redefine our device with one of IBMQ's backends (quantum devices or classical simulators)."
   ]
  },
  {
   "cell_type": "code",
   "execution_count": 61,
   "metadata": {
    "slideshow": {
     "slide_type": "subslide"
    }
   },
   "outputs": [
    {
     "name": "stderr",
     "output_type": "stream",
     "text": [
      "/Users/jfalla/opt/anaconda3/lib/python3.8/site-packages/qiskit/providers/ibmq/ibmqfactory.py:192: UserWarning: Timestamps in IBMQ backend properties, jobs, and job results are all now in local time instead of UTC.\n",
      "  warnings.warn('Timestamps in IBMQ backend properties, jobs, and job results '\n"
     ]
    },
    {
     "data": {
      "text/plain": [
       "[<AccountProvider for IBMQ(hub='ibm-q', group='open', project='main')>,\n",
       " <AccountProvider for IBMQ(hub='ibm-q-community', group='ibmquantumawards', project='open-science')>]"
      ]
     },
     "execution_count": 61,
     "metadata": {},
     "output_type": "execute_result"
    }
   ],
   "source": [
    "IBMQ.load_account()\n",
    "IBMQ.providers()"
   ]
  },
  {
   "cell_type": "code",
   "execution_count": 64,
   "metadata": {
    "slideshow": {
     "slide_type": "subslide"
    }
   },
   "outputs": [
    {
     "data": {
      "text/plain": [
       "[<IBMQSimulator('ibmq_qasm_simulator') from IBMQ(hub='ibm-q', group='open', project='main')>,\n",
       " <IBMQBackend('ibmqx2') from IBMQ(hub='ibm-q', group='open', project='main')>,\n",
       " <IBMQBackend('ibmq_16_melbourne') from IBMQ(hub='ibm-q', group='open', project='main')>,\n",
       " <IBMQBackend('ibmq_armonk') from IBMQ(hub='ibm-q', group='open', project='main')>,\n",
       " <IBMQBackend('ibmq_athens') from IBMQ(hub='ibm-q', group='open', project='main')>,\n",
       " <IBMQBackend('ibmq_santiago') from IBMQ(hub='ibm-q', group='open', project='main')>,\n",
       " <IBMQBackend('ibmq_lima') from IBMQ(hub='ibm-q', group='open', project='main')>,\n",
       " <IBMQBackend('ibmq_belem') from IBMQ(hub='ibm-q', group='open', project='main')>,\n",
       " <IBMQBackend('ibmq_quito') from IBMQ(hub='ibm-q', group='open', project='main')>]"
      ]
     },
     "execution_count": 64,
     "metadata": {},
     "output_type": "execute_result"
    }
   ],
   "source": [
    "provider = IBMQ.get_provider(hub='ibm-q', group='open', project='main')\n",
    "provider.backends()"
   ]
  },
  {
   "cell_type": "code",
   "execution_count": 91,
   "metadata": {
    "slideshow": {
     "slide_type": "subslide"
    }
   },
   "outputs": [],
   "source": [
    "devq = qml.device('qiskit.ibmq', wires=4, backend='ibmq_qasm_simulator', provider=provider, shots=1000)"
   ]
  },
  {
   "cell_type": "markdown",
   "metadata": {
    "slideshow": {
     "slide_type": "slide"
    }
   },
   "source": [
    "# References\n",
    "\n",
    "- [PennyLane](https://pennylane.ai/)\n",
    "- [PennyLane: Automatic differentiation of hybrid quantum-classical computations](https://arxiv.org/abs/1811.04968)\n",
    "- [An Overview of Gradient Descent Optimization Algorithms](https://ruder.io/optimizing-gradient-descent/index.html#gradientdescentoptimizationalgorithms)\n",
    "- "
   ]
  },
  {
   "cell_type": "code",
   "execution_count": null,
   "metadata": {},
   "outputs": [],
   "source": []
  }
 ],
 "metadata": {
  "celltoolbar": "Slideshow",
  "kernelspec": {
   "display_name": "Python 3",
   "language": "python",
   "name": "python3"
  },
  "language_info": {
   "codemirror_mode": {
    "name": "ipython",
    "version": 3
   },
   "file_extension": ".py",
   "mimetype": "text/x-python",
   "name": "python",
   "nbconvert_exporter": "python",
   "pygments_lexer": "ipython3",
   "version": "3.8.5"
  }
 },
 "nbformat": 4,
 "nbformat_minor": 4
}
